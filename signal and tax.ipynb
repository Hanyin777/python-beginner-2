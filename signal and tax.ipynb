{
 "cells": [
  {
   "cell_type": "code",
   "execution_count": 1,
   "id": "a0519483-d7ec-4998-9470-125b04a3cbd1",
   "metadata": {},
   "outputs": [
    {
     "name": "stdout",
     "output_type": "stream",
     "text": [
      "Today's fruit is :Tomato\n"
     ]
    }
   ],
   "source": [
    "import random\n",
    "\n",
    "fruits=['Apple','Orange','Banana','Pear','Tomato']\n",
    "cf=random.choice(fruits)\n",
    "\n",
    "print(\"Today's fruit is :\" +cf)"
   ]
  },
  {
   "cell_type": "code",
   "execution_count": 6,
   "id": "81a7d6b8-1d00-414a-b23d-606718c992a9",
   "metadata": {},
   "outputs": [
    {
     "name": "stdin",
     "output_type": "stream",
     "text": [
      "請輸入景氣對策信號綜合分數 10\n"
     ]
    },
    {
     "name": "stdout",
     "output_type": "stream",
     "text": [
      "藍燈\n"
     ]
    }
   ],
   "source": [
    "score=int(input('請輸入景氣對策信號綜合分數'))\n",
    "if score>=45 or score<9:\n",
    "    print('錯誤')\n",
    "elif score>=37:\n",
    "    print('紅燈')\n",
    "elif score>=31:\n",
    "    print('黃紅燈')\n",
    "elif score>=22:\n",
    "    print('綠燈')\n",
    "elif score>=16:\n",
    "    print('黃藍燈')\n",
    "elif score>=9:\n",
    "    print('藍燈')"
   ]
  },
  {
   "cell_type": "code",
   "execution_count": 7,
   "id": "5ea11d5f-3983-4f21-b1f0-445e77ad016c",
   "metadata": {},
   "outputs": [
    {
     "name": "stdin",
     "output_type": "stream",
     "text": [
      "請輸入淨年所得額 11000000\n"
     ]
    },
    {
     "name": "stdout",
     "output_type": "stream",
     "text": [
      "應繳稅額= 3645000.0\n"
     ]
    }
   ],
   "source": [
    "level1=520000*0.05\n",
    "level2=(1170000-520000)*0.12\n",
    "level3=(2350000-1170000)*0.2\n",
    "level4=(4400000-2350000)*0.3\n",
    "level5=(10000000-4400000)*0.4\n",
    "income=int(input('請輸入淨年所得額'))\n",
    "\n",
    "if income <= 520000:\n",
    "    tax=income*0.05\n",
    "\n",
    "elif income <= 1170000:\n",
    "    tax=level1+((income-520000)*0.12)\n",
    "\n",
    "elif income <= 2350000:\n",
    "    tax=level1+level2+((income-1170000)*0.2)\n",
    "\n",
    "elif income <= 4400000:\n",
    "    tax=level1+level2+level3+((income-2350000)*0.3)\n",
    "\n",
    "elif income <= 10000000:\n",
    "    tax=level1+level2+level3+level4+((income-4400000)*0.4)\n",
    "\n",
    "else:\n",
    "    tax=level1+level2+level3+level4+level5+((income-10000000)*0.45)\n",
    "\n",
    "print('應繳稅額=',tax)"
   ]
  },
  {
   "cell_type": "code",
   "execution_count": null,
   "id": "69072748-72bc-412b-b853-210d88a3fac0",
   "metadata": {},
   "outputs": [],
   "source": []
  }
 ],
 "metadata": {
  "kernelspec": {
   "display_name": "Python 3 (ipykernel)",
   "language": "python",
   "name": "python3"
  },
  "language_info": {
   "codemirror_mode": {
    "name": "ipython",
    "version": 3
   },
   "file_extension": ".py",
   "mimetype": "text/x-python",
   "name": "python",
   "nbconvert_exporter": "python",
   "pygments_lexer": "ipython3",
   "version": "3.11.7"
  }
 },
 "nbformat": 4,
 "nbformat_minor": 5
}
